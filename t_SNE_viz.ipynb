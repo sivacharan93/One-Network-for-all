{
  "nbformat": 4,
  "nbformat_minor": 0,
  "metadata": {
    "colab": {
      "name": "t-SNE_viz.ipynb",
      "version": "0.3.2",
      "provenance": [],
      "collapsed_sections": []
    },
    "kernelspec": {
      "name": "python3",
      "display_name": "Python 3"
    }
  },
  "cells": [
    {
      "cell_type": "code",
      "metadata": {
        "id": "CfV5U9N8yEYt",
        "colab_type": "code",
        "colab": {}
      },
      "source": [
        "#t SNE plot of image embeddings\n",
        "\n",
        "from sklearn.manifold import TSNE\n",
        "from tensorflow.python.keras.preprocessing import image\n",
        "from scipy.spatial.distance import cdist\n",
        "import pandas as pd\n",
        "import matplotlib.pyplot as plt\n",
        "\n",
        "\n",
        "\n",
        "image_names_1 = image_names[0:6400]\n",
        "image_300_vectors_1 = image_300_vectors[0:6400]\n",
        "\n",
        "img_size = 50\n",
        "path = 'Flicker8k_Dataset/'\n",
        "img_collection = []\n",
        "for img in image_names_1:\n",
        "  img_collection.append(image.load_img(path + img, target_size=(img_size, img_size)))\n",
        "  \n",
        "import time\n",
        "from lapjv import lapjv\n",
        "#Plotting t-SNE of embeddings in a grid\n",
        "#https://github.com/prabodhhere/tsne-grid/blob/master/tsne_grid.py\n",
        "\n",
        "start =time.time()\n",
        "def generate_tsne(activations):\n",
        "    tsne = TSNE(perplexity=50, n_components=2, init='random', n_iter=250)\n",
        "    X_2d = tsne.fit_transform(np.array(activations)[0:6400,:])\n",
        "    X_2d -= X_2d.min(axis=0)\n",
        "    X_2d /= X_2d.max(axis=0)\n",
        "    return X_2d\n",
        "print(time.time() -start)\n",
        "\n",
        "\n",
        "X_2d = generate_tsne(image_300_vectors_1)  \n",
        "\n",
        "def save_tsne_grid(img_collection, X_2d, out_res, out_dim):\n",
        "    grid = np.dstack(np.meshgrid(np.linspace(0, 1, out_dim), np.linspace(0, 1, out_dim))).reshape(-1, 2)\n",
        "    cost_matrix = cdist(grid, X_2d, \"sqeuclidean\").astype(np.float32)\n",
        "    cost_matrix = cost_matrix * (100000 / cost_matrix.max())\n",
        "    row_asses, col_asses, _ = lapjv(cost_matrix)\n",
        "    grid_jv = grid[col_asses]\n",
        "    out = np.ones((out_dim*out_res, out_dim*out_res, 3))\n",
        "\n",
        "    for pos, img in zip(grid_jv, img_collection[0:out_dim**2]):\n",
        "        h_range = int(np.floor(pos[0]* (out_dim - 1) * out_res))\n",
        "        w_range = int(np.floor(pos[1]* (out_dim - 1) * out_res))\n",
        "        out[h_range:h_range + out_res, w_range:w_range + out_res]  = image.img_to_array(img)\n",
        "\n",
        "    im = image.array_to_img(out)\n",
        "    im.save('t-sne_embeddings.png', quality=100)\n",
        "save_tsne_grid(img_collection,X_2d,50,80)"
      ],
      "execution_count": 0,
      "outputs": []
    },
    {
      "cell_type": "code",
      "metadata": {
        "id": "brV17gSkyLNJ",
        "colab_type": "code",
        "colab": {}
      },
      "source": [
        "#Word t-SNE\n",
        "\n",
        "tsne = TSNE(perplexity=10, n_components=2, init='random', n_iter=250)\n",
        "X_tsne = tsne.fit_transform(np.array(word_300_vectors))\n",
        "\n",
        "\n",
        "with open(\"tensors.tsv\", 'w+') as file_metadata:\n",
        "    for i in range(len(word_list)):\n",
        "        vector_row = '\\t'.join(map(str, np.array(word_300_vectors)[i]))\n",
        "        file_metadata.write(vector_row + '\\n')"
      ],
      "execution_count": 0,
      "outputs": []
    },
    {
      "cell_type": "code",
      "metadata": {
        "id": "J2x2EhJmyuFm",
        "colab_type": "code",
        "colab": {}
      },
      "source": [
        "##Iterations vs images for caption to image query\n",
        "from tensorflow.python.keras.preprocessing import image\n",
        "\n",
        "image_names_1 = similar_images(n[0], image_300_vectors, image_names)\n",
        "\n",
        "path = 'Flicker8k_Dataset/'\n",
        "img_collection = []\n",
        "for img in image_names_1:\n",
        "  img_collection.append(np.uint8(image.img_to_array(image.load_img(path + img, target_size=(100, 100)))))\n",
        "  \n",
        "\n",
        "fig=plt.figure(figsize=(10, 1))\n",
        "      \n",
        "for i in range(1, 11):          \n",
        "    img_1 = img_collection[i-1]          \n",
        "    fig.add_subplot(1, 10, i)          \n",
        "    plt.imshow(img_1)\n",
        "    plt.xticks([])\n",
        "    plt.yticks([])\n",
        "plt.show()\n"
      ],
      "execution_count": 0,
      "outputs": []
    }
  ]
}