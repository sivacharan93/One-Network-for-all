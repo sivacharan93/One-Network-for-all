{
 "cells": [
  {
   "cell_type": "code",
   "execution_count": 0,
   "metadata": {
    "colab": {
     "base_uri": "https://localhost:8080/",
     "height": 70
    },
    "colab_type": "code",
    "id": "AfAO9aUjiLbD",
    "outputId": "15037886-6073-4d9b-cd1e-65ccb777fde9"
   },
   "outputs": [
    {
     "name": "stderr",
     "output_type": "stream",
     "text": [
      "Using TensorFlow backend.\n",
      "WARNING: Logging before flag parsing goes to stderr.\n",
      "W0502 23:58:59.495810 140170155288448 __init__.py:56] Some hub symbols are not available because TensorFlow version is less than 1.14\n"
     ]
    }
   ],
   "source": [
    "#Importing required packages\n",
    "import tensorflow as tf\n",
    "from keras.applications import inception_v3\n",
    "from keras.preprocessing.image import img_to_array, load_img\n",
    "from keras.layers import BatchNormalization, Dense, RepeatVector\n",
    "import os, glob\n",
    "import json, pickle\n",
    "import numpy as np\n",
    "import tensorflow_hub as hub\n"
   ]
  },
  {
   "cell_type": "code",
   "execution_count": 0,
   "metadata": {
    "colab": {
     "base_uri": "https://localhost:8080/",
     "height": 144
    },
    "colab_type": "code",
    "id": "2zlq2VXNPE-i",
    "outputId": "31f89218-119b-44c3-f3af-9089f742258c"
   },
   "outputs": [
    {
     "name": "stdout",
     "output_type": "stream",
     "text": [
      "WARNING:tensorflow:From /usr/local/lib/python3.6/dist-packages/tensorflow/python/ops/control_flow_ops.py:3632: colocate_with (from tensorflow.python.framework.ops) is deprecated and will be removed in a future version.\n",
      "Instructions for updating:\n",
      "Colocations handled automatically by placer.\n"
     ]
    },
    {
     "name": "stderr",
     "output_type": "stream",
     "text": [
      "W0502 23:59:04.644039 140170155288448 deprecation.py:323] From /usr/local/lib/python3.6/dist-packages/tensorflow/python/ops/control_flow_ops.py:3632: colocate_with (from tensorflow.python.framework.ops) is deprecated and will be removed in a future version.\n",
      "Instructions for updating:\n",
      "Colocations handled automatically by placer.\n"
     ]
    }
   ],
   "source": [
    "#Loading the inception_v3 model\n",
    "#We are not considering the top fully connected layer and just taking the 2048 vector from convolutions\n",
    "module = hub.Module(\"https://tfhub.dev/google/imagenet/inception_v3/feature_vector/1\")"
   ]
  },
  {
   "cell_type": "code",
   "execution_count": 0,
   "metadata": {
    "colab": {},
    "colab_type": "code",
    "id": "QLfD_z_sRLIR"
   },
   "outputs": [],
   "source": [
    "#Code to connect the google drive to colab\n",
    "\"\"\"\n",
    "\n",
    "!apt-get install -y -qq software-properties-common python-software-properties module-init-tools\n",
    "!add-apt-repository -y ppa:alessandro-strada/ppa 2>&1 > /dev/null\n",
    "!apt-get update -qq 2>&1 > /dev/null\n",
    "!apt-get -y install -qq google-drive-ocamlfuse fuse\n",
    "from google.colab import auth\n",
    "auth.authenticate_user()\n",
    "from oauth2client.client import GoogleCredentials\n",
    "creds = GoogleCredentials.get_application_default()\n",
    "import getpass\n",
    "!google-drive-ocamlfuse -headless -id={creds.client_id} -secret={creds.client_secret} < /dev/null 2>&1 | grep URL\n",
    "vcode = getpass.getpass()\n",
    "!echo {vcode} | google-drive-ocamlfuse -headless -id={creds.client_id} -secret={creds.client_secret}\n",
    "\n",
    "\"\"\""
   ]
  },
  {
   "cell_type": "code",
   "execution_count": 0,
   "metadata": {
    "colab": {},
    "colab_type": "code",
    "id": "nJz7LHX1Rrzo"
   },
   "outputs": [],
   "source": [
    "#Seeing the contents of the drive\n",
    "\"\"\"\n",
    "!mkdir drive\n",
    "!google-drive-ocamlfuse drive\n",
    "!ls drive\n",
    "\"\"\""
   ]
  },
  {
   "cell_type": "code",
   "execution_count": 0,
   "metadata": {
    "colab": {},
    "colab_type": "code",
    "id": "xYOfhvhcR1hc"
   },
   "outputs": [],
   "source": [
    "#unzipping the required image data set\n",
    "!unzip drive/DL/DL_Project/Flickr8k_Dataset.zip"
   ]
  },
  {
   "cell_type": "code",
   "execution_count": 0,
   "metadata": {
    "colab": {
     "base_uri": "https://localhost:8080/",
     "height": 52
    },
    "colab_type": "code",
    "id": "KA1G0FdvSrKR",
    "outputId": "29a9ace5-f1e0-4ed2-a3eb-fceb184d03ba"
   },
   "outputs": [
    {
     "name": "stdout",
     "output_type": "stream",
     "text": [
      "8091\n",
      "Flicker8k_Dataset/2934837034_a8ca5b1f50.jpg\n"
     ]
    }
   ],
   "source": [
    "#Getting all the image files in the prescribed path\n",
    "path = \"Flicker8k_Dataset/***.jpg\"\n",
    "file_path = glob.glob(path)\n",
    "print (len(file_path))\n",
    "#    for file in file_path:\n",
    "print (file_path[0])"
   ]
  },
  {
   "cell_type": "code",
   "execution_count": 0,
   "metadata": {
    "colab": {
     "base_uri": "https://localhost:8080/",
     "height": 52
    },
    "colab_type": "code",
    "id": "8RGuD_EQXd6e",
    "outputId": "0e450d0c-3e9d-4db5-999d-bb5d51b3e474"
   },
   "outputs": [
    {
     "name": "stdout",
     "output_type": "stream",
     "text": [
      "INFO:tensorflow:Saver not created because there are no variables in the graph to restore\n"
     ]
    },
    {
     "name": "stderr",
     "output_type": "stream",
     "text": [
      "I0503 00:09:42.753012 140170155288448 saver.py:1483] Saver not created because there are no variables in the graph to restore\n"
     ]
    }
   ],
   "source": [
    "#Creating a place holder, this will be used to pass image to inception model to get 2048 vector\n",
    "X = tf.placeholder(tf.float32, shape = (None, 299,299,3))\n",
    "#Getting the output of the inception model\n",
    "out = module(X)"
   ]
  },
  {
   "cell_type": "code",
   "execution_count": 0,
   "metadata": {
    "colab": {
     "base_uri": "https://localhost:8080/",
     "height": 126
    },
    "colab_type": "code",
    "id": "bvJitLIyTSdh",
    "outputId": "035c5575-eb10-4a11-83b8-fff6250d67cc"
   },
   "outputs": [
    {
     "name": "stderr",
     "output_type": "stream",
     "text": [
      "/usr/local/lib/python3.6/dist-packages/tensorflow/python/client/session.py:1702: UserWarning: An interactive session is already active. This can cause out-of-memory errors in some cases. You must explicitly call `InteractiveSession.close()` to release resources held by the other session(s).\n",
      "  warnings.warn('An interactive session is already active. This can '\n"
     ]
    },
    {
     "name": "stdout",
     "output_type": "stream",
     "text": [
      "<class 'list'>\n",
      "<class 'numpy.ndarray'>\n",
      "(8091, 1, 1, 2048)\n"
     ]
    }
   ],
   "source": [
    "#setting up the tensor flow session\n",
    "session = tf.InteractiveSession()\n",
    "tf.global_variables_initializer().run()\n",
    "\n",
    "#creating list to store image names and image vectors\n",
    "input_images = []\n",
    "image_names = []\n",
    "#Getting each image and processing it\n",
    "for i in range(len(file_path)):\n",
    "#  print (i)\n",
    "#Adding image name to image names list\n",
    "  image_names.append(file_path[i])\n",
    "#loading image in required format (image shape required for inception network is 299,299,3)\n",
    "  img = load_img(file_path[i], target_size=(299, 299))\n",
    "  img_array = img_to_array(img)\n",
    "#Processing the image data, normalizing the oixel data from -1 to 1\n",
    "  img_array = inception_v3.preprocess_input(img_array)\n",
    "#Reshaping the image data to pass to inception network\n",
    "  img_array = img_array.reshape(1,img_array.shape[0], img_array.shape[1], img_array.shape[2])\n",
    "#passing image data to inception network and getting 2048 vector\n",
    "  out_array = session.run([out], feed_dict={X:img_array})\n",
    "#storing the 2048 vectors in a input_images list\n",
    "  input_images.append(np.array(out_array))\n",
    "\n",
    "\n",
    "print (type(input_images))\n",
    "input_images = np.array(input_images)\n",
    "#input_images = input_images.rehape(10,2048)\n",
    "print (type(input_images))\n",
    "print (input_images.shape)\n"
   ]
  },
  {
   "cell_type": "code",
   "execution_count": 0,
   "metadata": {
    "colab": {
     "base_uri": "https://localhost:8080/",
     "height": 52
    },
    "colab_type": "code",
    "id": "Uz-txq5xdKeZ",
    "outputId": "a60fa0b2-31ab-48b3-e9f2-85fbf5206a42"
   },
   "outputs": [
    {
     "name": "stdout",
     "output_type": "stream",
     "text": [
      "<class 'numpy.ndarray'>\n",
      "(8091, 2048)\n"
     ]
    }
   ],
   "source": [
    "#rehaping the input list from 8091,1,1,2048 to 8091,2048 shape\n",
    "input_images = input_images.reshape(input_images.shape[0],2048)\n",
    "print (type(input_images))\n",
    "print (input_images.shape)\n"
   ]
  },
  {
   "cell_type": "code",
   "execution_count": 0,
   "metadata": {
    "colab": {
     "base_uri": "https://localhost:8080/",
     "height": 70
    },
    "colab_type": "code",
    "id": "Vjl8ZGBQfryc",
    "outputId": "6692eff6-c882-4149-e698-8ea5e2c474c6"
   },
   "outputs": [
    {
     "name": "stdout",
     "output_type": "stream",
     "text": [
      "<class 'list'>\n",
      "8091\n",
      "(8091,)\n"
     ]
    }
   ],
   "source": [
    "#Converting the names list to numpy array\n",
    "print (type(image_names))\n",
    "print (len(image_names))\n",
    "image_names = np.array(image_names)\n",
    "print (image_names.shape)"
   ]
  },
  {
   "cell_type": "code",
   "execution_count": 0,
   "metadata": {
    "colab": {
     "base_uri": "https://localhost:8080/",
     "height": 52
    },
    "colab_type": "code",
    "id": "Q3ioR9RoC1AR",
    "outputId": "087f6b20-a798-4d5c-d487-d7b494510658"
   },
   "outputs": [
    {
     "name": "stdout",
     "output_type": "stream",
     "text": [
      "[0.36827826 0.17485881 0.00189675 ... 0.16599445 0.13291389 0.10068121]\n",
      "Flicker8k_Dataset/2934837034_a8ca5b1f50.jpg\n"
     ]
    }
   ],
   "source": [
    "print (input_images[0])\n",
    "print (image_names[0])"
   ]
  },
  {
   "cell_type": "code",
   "execution_count": 0,
   "metadata": {
    "colab": {},
    "colab_type": "code",
    "id": "BxBvU4Rre8S5"
   },
   "outputs": [],
   "source": [
    "#Storing both the image names array and image vector array in the drive, this was done to readily use this information\n",
    "with open('drive/DL/DL_Project/inception_2048_vector.pkl','wb') as f:\n",
    "  pickle.dump(input_images, f)\n",
    "  \n",
    "with open('drive/DL/DL_Project/images_file_names_vector_index.pkl','wb') as f:\n",
    "  pickle.dump(image_names, f)"
   ]
  }
 ],
 "metadata": {
  "accelerator": "GPU",
  "colab": {
   "collapsed_sections": [],
   "name": "Inception_2048vector_generation.ipynb",
   "provenance": [],
   "version": "0.3.2"
  },
  "kernelspec": {
   "display_name": "Python 3",
   "language": "python",
   "name": "python3"
  },
  "language_info": {
   "codemirror_mode": {
    "name": "ipython",
    "version": 3
   },
   "file_extension": ".py",
   "mimetype": "text/x-python",
   "name": "python",
   "nbconvert_exporter": "python",
   "pygments_lexer": "ipython3",
   "version": "3.6.5"
  }
 },
 "nbformat": 4,
 "nbformat_minor": 1
}
